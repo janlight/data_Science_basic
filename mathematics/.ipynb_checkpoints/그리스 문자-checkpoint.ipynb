{
 "cells": [
  {
   "cell_type": "markdown",
   "id": "bad6ff1d",
   "metadata": {},
   "source": [
    "수식에는 문장 안에서 일부 단어가 수식인 인라인(inline) 수식과 독립된 문단이 되는 디스플레이(display) 수식이 있다. $와 $사이의 수식은 문장내의 인라인 수식을 쓸 때 사용하고 ($$)와 ($$)사이의 수식은 디스플레이 수식을 쓸 때 사용한다."
   ]
  },
  {
   "cell_type": "markdown",
   "id": "91570856",
   "metadata": {},
   "source": [
    "$$ \\alpha = \\beta $$"
   ]
  },
  {
   "cell_type": "markdown",
   "id": "74f9a32e",
   "metadata": {},
   "source": [
    "$ \\alpha = \\beta $"
   ]
  },
  {
   "cell_type": "markdown",
   "id": "aef2554e",
   "metadata": {},
   "source": [
    "$$ \\gamma = \\theta $$"
   ]
  },
  {
   "cell_type": "code",
   "execution_count": null,
   "id": "1377d207",
   "metadata": {},
   "outputs": [],
   "source": []
  }
 ],
 "metadata": {
  "kernelspec": {
   "display_name": "Python 3",
   "language": "python",
   "name": "python3"
  },
  "language_info": {
   "codemirror_mode": {
    "name": "ipython",
    "version": 3
   },
   "file_extension": ".py",
   "mimetype": "text/x-python",
   "name": "python",
   "nbconvert_exporter": "python",
   "pygments_lexer": "ipython3",
   "version": "3.8.8"
  }
 },
 "nbformat": 4,
 "nbformat_minor": 5
}
